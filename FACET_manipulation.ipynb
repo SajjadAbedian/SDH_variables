{
 "cells": [
  {
   "cell_type": "markdown",
   "metadata": {},
   "source": [
    "* Importing required modules and reading the first tab on the facets_2017_1.xlsx workbook."
   ]
  },
  {
   "cell_type": "code",
   "execution_count": 9,
   "metadata": {},
   "outputs": [],
   "source": [
    "import pandas as pd\n",
    "FacetDF = \"https://github.com/mcantor2/FACETS/blob/master/facets_2017_1.xlsx?raw=true\"\n",
    "FacetDF = pd.read_excel(url, sheet_name=0)"
   ]
  },
  {
   "cell_type": "markdown",
   "metadata": {},
   "source": [
    "* Selecting only the needed columns, FIPS and Resp_HI which are representing FIPS and Respiratory Hazard Index respectively.\n",
    "* Reindexing the derived dataframe using FIPS"
   ]
  },
  {
   "cell_type": "code",
   "execution_count": 10,
   "metadata": {},
   "outputs": [],
   "source": [
    "selected_columns = ['FIPS', 'Resp_HI']\n",
    "FacetRHI = FacetDF.loc[:, selected_columns]\n",
    "FacetRHI = FacetRHI.set_index('FIPS')"
   ]
  },
  {
   "cell_type": "markdown",
   "metadata": {},
   "source": [
    "* Save the new dataframe to a .csv file"
   ]
  },
  {
   "cell_type": "code",
   "execution_count": 11,
   "metadata": {},
   "outputs": [],
   "source": [
    "FacetRHI.to_csv(\"FACET_RHI.csv\")"
   ]
  },
  {
   "cell_type": "code",
   "execution_count": null,
   "metadata": {},
   "outputs": [],
   "source": []
  }
 ],
 "metadata": {
  "kernelspec": {
   "display_name": "Python 3",
   "language": "python",
   "name": "python3"
  },
  "language_info": {
   "codemirror_mode": {
    "name": "ipython",
    "version": 3
   },
   "file_extension": ".py",
   "mimetype": "text/x-python",
   "name": "python",
   "nbconvert_exporter": "python",
   "pygments_lexer": "ipython3",
   "version": "3.6.4"
  }
 },
 "nbformat": 4,
 "nbformat_minor": 2
}
